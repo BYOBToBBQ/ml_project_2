{
 "cells": [
  {
   "cell_type": "code",
   "execution_count": 1,
   "metadata": {},
   "outputs": [],
   "source": [
    "import numpy as np\n",
    "import pandas as pd\n",
    "import random\n",
    "from surprise import Dataset\n",
    "from surprise import Reader\n",
    "from surprise import SVD\n",
    "from surprise import BaselineOnly\n",
    "from surprise import CoClustering\n",
    "from surprise.model_selection import KFold\n",
    "from surprise import accuracy\n",
    "from surprise import KNNBaseline, KNNBasic, KNNWithMeans, KNNWithZScore, SlopeOne\n",
    "from surprise.model_selection import GridSearchCV, RandomizedSearchCV\n",
    "from surprise.model_selection import train_test_split\n",
    "from surprise.model_selection import cross_validate\n",
    "from joblib import Parallel, delayed\n",
    "import multiprocessing\n",
    "import time"
   ]
  },
  {
   "cell_type": "markdown",
   "metadata": {},
   "source": [
    "Load csv file into a pandas dataframe with the right surprise format (userID, itemID, rating)"
   ]
  },
  {
   "cell_type": "code",
   "execution_count": 2,
   "metadata": {},
   "outputs": [],
   "source": [
    "def get_users(line):\n",
    "    row, col = line.split(\"_\")\n",
    "    row = row.replace(\"r\", \"\")\n",
    "    return int(row)"
   ]
  },
  {
   "cell_type": "code",
   "execution_count": 3,
   "metadata": {},
   "outputs": [],
   "source": [
    "def get_items(line):\n",
    "    row, col = line.split(\"_\")\n",
    "    col = col.replace(\"c\", \"\")\n",
    "    return int(col)"
   ]
  },
  {
   "cell_type": "code",
   "execution_count": 4,
   "metadata": {},
   "outputs": [],
   "source": [
    "data = pd.read_csv('data_train.csv')"
   ]
  },
  {
   "cell_type": "code",
   "execution_count": 5,
   "metadata": {},
   "outputs": [
    {
     "data": {
      "text/html": [
       "<div>\n",
       "<style scoped>\n",
       "    .dataframe tbody tr th:only-of-type {\n",
       "        vertical-align: middle;\n",
       "    }\n",
       "\n",
       "    .dataframe tbody tr th {\n",
       "        vertical-align: top;\n",
       "    }\n",
       "\n",
       "    .dataframe thead th {\n",
       "        text-align: right;\n",
       "    }\n",
       "</style>\n",
       "<table border=\"1\" class=\"dataframe\">\n",
       "  <thead>\n",
       "    <tr style=\"text-align: right;\">\n",
       "      <th></th>\n",
       "      <th>Id</th>\n",
       "      <th>Prediction</th>\n",
       "    </tr>\n",
       "  </thead>\n",
       "  <tbody>\n",
       "    <tr>\n",
       "      <th>0</th>\n",
       "      <td>r44_c1</td>\n",
       "      <td>4</td>\n",
       "    </tr>\n",
       "    <tr>\n",
       "      <th>1</th>\n",
       "      <td>r61_c1</td>\n",
       "      <td>3</td>\n",
       "    </tr>\n",
       "    <tr>\n",
       "      <th>2</th>\n",
       "      <td>r67_c1</td>\n",
       "      <td>4</td>\n",
       "    </tr>\n",
       "    <tr>\n",
       "      <th>3</th>\n",
       "      <td>r72_c1</td>\n",
       "      <td>3</td>\n",
       "    </tr>\n",
       "    <tr>\n",
       "      <th>4</th>\n",
       "      <td>r86_c1</td>\n",
       "      <td>5</td>\n",
       "    </tr>\n",
       "  </tbody>\n",
       "</table>\n",
       "</div>"
      ],
      "text/plain": [
       "       Id  Prediction\n",
       "0  r44_c1           4\n",
       "1  r61_c1           3\n",
       "2  r67_c1           4\n",
       "3  r72_c1           3\n",
       "4  r86_c1           5"
      ]
     },
     "execution_count": 5,
     "metadata": {},
     "output_type": "execute_result"
    }
   ],
   "source": [
    "data.head()"
   ]
  },
  {
   "cell_type": "code",
   "execution_count": 6,
   "metadata": {},
   "outputs": [],
   "source": [
    "data['userID'] = data['Id'].apply(get_users)\n",
    "data['itemID'] = data['Id'].apply(get_items)\n",
    "data = data.drop('Id', axis=1)\n",
    "data = data.rename(columns={'Prediction':'rating'})[['userID','itemID','rating']]"
   ]
  },
  {
   "cell_type": "code",
   "execution_count": 7,
   "metadata": {},
   "outputs": [
    {
     "data": {
      "text/html": [
       "<div>\n",
       "<style scoped>\n",
       "    .dataframe tbody tr th:only-of-type {\n",
       "        vertical-align: middle;\n",
       "    }\n",
       "\n",
       "    .dataframe tbody tr th {\n",
       "        vertical-align: top;\n",
       "    }\n",
       "\n",
       "    .dataframe thead th {\n",
       "        text-align: right;\n",
       "    }\n",
       "</style>\n",
       "<table border=\"1\" class=\"dataframe\">\n",
       "  <thead>\n",
       "    <tr style=\"text-align: right;\">\n",
       "      <th></th>\n",
       "      <th>userID</th>\n",
       "      <th>itemID</th>\n",
       "      <th>rating</th>\n",
       "    </tr>\n",
       "  </thead>\n",
       "  <tbody>\n",
       "    <tr>\n",
       "      <th>0</th>\n",
       "      <td>44</td>\n",
       "      <td>1</td>\n",
       "      <td>4</td>\n",
       "    </tr>\n",
       "    <tr>\n",
       "      <th>1</th>\n",
       "      <td>61</td>\n",
       "      <td>1</td>\n",
       "      <td>3</td>\n",
       "    </tr>\n",
       "    <tr>\n",
       "      <th>2</th>\n",
       "      <td>67</td>\n",
       "      <td>1</td>\n",
       "      <td>4</td>\n",
       "    </tr>\n",
       "    <tr>\n",
       "      <th>3</th>\n",
       "      <td>72</td>\n",
       "      <td>1</td>\n",
       "      <td>3</td>\n",
       "    </tr>\n",
       "    <tr>\n",
       "      <th>4</th>\n",
       "      <td>86</td>\n",
       "      <td>1</td>\n",
       "      <td>5</td>\n",
       "    </tr>\n",
       "  </tbody>\n",
       "</table>\n",
       "</div>"
      ],
      "text/plain": [
       "   userID  itemID  rating\n",
       "0      44       1       4\n",
       "1      61       1       3\n",
       "2      67       1       4\n",
       "3      72       1       3\n",
       "4      86       1       5"
      ]
     },
     "execution_count": 7,
     "metadata": {},
     "output_type": "execute_result"
    }
   ],
   "source": [
    "data.head()"
   ]
  },
  {
   "cell_type": "markdown",
   "metadata": {},
   "source": [
    "Load dataframe into surprise"
   ]
  },
  {
   "cell_type": "code",
   "execution_count": 8,
   "metadata": {},
   "outputs": [],
   "source": [
    "reader = Reader(rating_scale=(1, 5))\n",
    "surp = Dataset.load_from_df(data, reader)"
   ]
  },
  {
   "cell_type": "markdown",
   "metadata": {},
   "source": [
    "Example grid search with svd algorithm"
   ]
  },
  {
   "cell_type": "code",
   "execution_count": 9,
   "metadata": {},
   "outputs": [],
   "source": [
    "param_grid = {'bsl_options': {'method': ['als'],\n",
    "                              'reg_u': [1,20],\n",
    "                              'reg_i':[1,20],\n",
    "                              'n_epochs' :[5,20]},\n",
    "              'k': [5, 100],\n",
    "              'min_k' : [1, 5],\n",
    "              'sim_options': {'name': ['pearson_baseline'],\n",
    "                              'shrinkage': [80,100]}\n",
    "              }"
   ]
  },
  {
   "cell_type": "code",
   "execution_count": null,
   "metadata": {},
   "outputs": [],
   "source": []
  },
  {
   "cell_type": "code",
   "execution_count": 10,
   "metadata": {},
   "outputs": [
    {
     "name": "stdout",
     "output_type": "stream",
     "text": [
      "Estimating biases using als...\n",
      "Computing the pearson_baseline similarity matrix...\n",
      "Done computing similarity matrix.\n",
      "Estimating biases using als...\n",
      "Computing the pearson_baseline similarity matrix...\n",
      "Done computing similarity matrix.\n",
      "Estimating biases using als...\n",
      "Computing the pearson_baseline similarity matrix...\n",
      "Done computing similarity matrix.\n",
      "Estimating biases using als...\n",
      "Computing the pearson_baseline similarity matrix...\n",
      "Done computing similarity matrix.\n",
      "Estimating biases using als...\n",
      "Computing the pearson_baseline similarity matrix...\n",
      "Done computing similarity matrix.\n",
      "Estimating biases using als...\n",
      "Computing the pearson_baseline similarity matrix...\n",
      "Done computing similarity matrix.\n",
      "Estimating biases using als...\n",
      "Computing the pearson_baseline similarity matrix...\n",
      "Done computing similarity matrix.\n",
      "Estimating biases using als...\n",
      "Computing the pearson_baseline similarity matrix...\n",
      "Done computing similarity matrix.\n",
      "Estimating biases using als...\n",
      "Computing the pearson_baseline similarity matrix...\n",
      "Done computing similarity matrix.\n",
      "Estimating biases using als...\n",
      "Computing the pearson_baseline similarity matrix...\n",
      "Done computing similarity matrix.\n",
      "Estimating biases using als...\n",
      "Computing the pearson_baseline similarity matrix...\n",
      "Done computing similarity matrix.\n",
      "Estimating biases using als...\n",
      "Computing the pearson_baseline similarity matrix...\n",
      "Done computing similarity matrix.\n",
      "Estimating biases using als...\n",
      "Computing the pearson_baseline similarity matrix...\n",
      "Done computing similarity matrix.\n",
      "Estimating biases using als...\n",
      "Computing the pearson_baseline similarity matrix...\n",
      "Done computing similarity matrix.\n",
      "Estimating biases using als...\n",
      "Computing the pearson_baseline similarity matrix...\n",
      "Done computing similarity matrix.\n",
      "Estimating biases using als...\n",
      "Computing the pearson_baseline similarity matrix...\n",
      "Done computing similarity matrix.\n",
      "Estimating biases using als...\n",
      "Computing the pearson_baseline similarity matrix...\n",
      "Done computing similarity matrix.\n",
      "Estimating biases using als...\n",
      "Computing the pearson_baseline similarity matrix...\n",
      "Done computing similarity matrix.\n",
      "Estimating biases using als...\n",
      "Computing the pearson_baseline similarity matrix...\n",
      "Done computing similarity matrix.\n",
      "Estimating biases using als...\n",
      "Computing the pearson_baseline similarity matrix...\n",
      "Done computing similarity matrix.\n",
      "Estimating biases using als...\n",
      "Computing the pearson_baseline similarity matrix...\n",
      "Done computing similarity matrix.\n",
      "Estimating biases using als...\n",
      "Computing the pearson_baseline similarity matrix...\n",
      "Done computing similarity matrix.\n",
      "Estimating biases using als...\n",
      "Computing the pearson_baseline similarity matrix...\n",
      "Done computing similarity matrix.\n",
      "Estimating biases using als...\n",
      "Computing the pearson_baseline similarity matrix...\n",
      "Done computing similarity matrix.\n",
      "Estimating biases using als...\n",
      "Computing the pearson_baseline similarity matrix...\n",
      "Done computing similarity matrix.\n",
      "Estimating biases using als...\n",
      "Computing the pearson_baseline similarity matrix...\n",
      "Done computing similarity matrix.\n",
      "Estimating biases using als...\n",
      "Computing the pearson_baseline similarity matrix...\n",
      "Done computing similarity matrix.\n",
      "Estimating biases using als...\n",
      "Computing the pearson_baseline similarity matrix...\n",
      "Done computing similarity matrix.\n",
      "Estimating biases using als...\n",
      "Computing the pearson_baseline similarity matrix...\n",
      "Done computing similarity matrix.\n",
      "Estimating biases using als...\n",
      "Computing the pearson_baseline similarity matrix...\n",
      "Done computing similarity matrix.\n",
      "Estimating biases using als...\n",
      "Computing the pearson_baseline similarity matrix...\n",
      "Done computing similarity matrix.\n",
      "Estimating biases using als...\n",
      "Computing the pearson_baseline similarity matrix...\n",
      "Done computing similarity matrix.\n",
      "Estimating biases using als...\n",
      "Computing the pearson_baseline similarity matrix...\n",
      "Done computing similarity matrix.\n",
      "Estimating biases using als...\n",
      "Computing the pearson_baseline similarity matrix...\n",
      "Done computing similarity matrix.\n",
      "Estimating biases using als...\n",
      "Computing the pearson_baseline similarity matrix...\n",
      "Done computing similarity matrix.\n",
      "Estimating biases using als...\n",
      "Computing the pearson_baseline similarity matrix...\n",
      "Done computing similarity matrix.\n",
      "Estimating biases using als...\n",
      "Computing the pearson_baseline similarity matrix...\n",
      "Done computing similarity matrix.\n",
      "Estimating biases using als...\n",
      "Computing the pearson_baseline similarity matrix...\n",
      "Done computing similarity matrix.\n",
      "Estimating biases using als...\n",
      "Computing the pearson_baseline similarity matrix...\n",
      "Done computing similarity matrix.\n",
      "Estimating biases using als...\n",
      "Computing the pearson_baseline similarity matrix...\n",
      "Done computing similarity matrix.\n",
      "Estimating biases using als...\n",
      "Computing the pearson_baseline similarity matrix...\n",
      "Done computing similarity matrix.\n",
      "Estimating biases using als...\n",
      "Computing the pearson_baseline similarity matrix...\n",
      "Done computing similarity matrix.\n",
      "Estimating biases using als...\n",
      "Computing the pearson_baseline similarity matrix...\n",
      "Done computing similarity matrix.\n",
      "Estimating biases using als...\n",
      "Computing the pearson_baseline similarity matrix...\n",
      "Done computing similarity matrix.\n",
      "Estimating biases using als...\n",
      "Computing the pearson_baseline similarity matrix...\n",
      "Done computing similarity matrix.\n",
      "Estimating biases using als...\n",
      "Computing the pearson_baseline similarity matrix...\n",
      "Done computing similarity matrix.\n",
      "Estimating biases using als...\n",
      "Computing the pearson_baseline similarity matrix...\n",
      "Done computing similarity matrix.\n",
      "Estimating biases using als...\n",
      "Computing the pearson_baseline similarity matrix...\n",
      "Done computing similarity matrix.\n",
      "Estimating biases using als...\n",
      "Computing the pearson_baseline similarity matrix...\n",
      "Done computing similarity matrix.\n",
      "Estimating biases using als...\n",
      "Computing the pearson_baseline similarity matrix...\n",
      "Done computing similarity matrix.\n"
     ]
    }
   ],
   "source": [
    "\n",
    "gs = RandomizedSearchCV(KNNBaseline, param_grid, measures=['rmse'])\n",
    "gs.fit(surp)"
   ]
  },
  {
   "cell_type": "code",
   "execution_count": 11,
   "metadata": {},
   "outputs": [
    {
     "data": {
      "text/html": [
       "<div>\n",
       "<style scoped>\n",
       "    .dataframe tbody tr th:only-of-type {\n",
       "        vertical-align: middle;\n",
       "    }\n",
       "\n",
       "    .dataframe tbody tr th {\n",
       "        vertical-align: top;\n",
       "    }\n",
       "\n",
       "    .dataframe thead th {\n",
       "        text-align: right;\n",
       "    }\n",
       "</style>\n",
       "<table border=\"1\" class=\"dataframe\">\n",
       "  <thead>\n",
       "    <tr style=\"text-align: right;\">\n",
       "      <th></th>\n",
       "      <th>split0_test_rmse</th>\n",
       "      <th>split1_test_rmse</th>\n",
       "      <th>split2_test_rmse</th>\n",
       "      <th>split3_test_rmse</th>\n",
       "      <th>split4_test_rmse</th>\n",
       "      <th>mean_test_rmse</th>\n",
       "      <th>std_test_rmse</th>\n",
       "      <th>rank_test_rmse</th>\n",
       "      <th>mean_fit_time</th>\n",
       "      <th>std_fit_time</th>\n",
       "      <th>mean_test_time</th>\n",
       "      <th>std_test_time</th>\n",
       "      <th>params</th>\n",
       "      <th>param_bsl_options</th>\n",
       "      <th>param_k</th>\n",
       "      <th>param_min_k</th>\n",
       "      <th>param_sim_options</th>\n",
       "    </tr>\n",
       "  </thead>\n",
       "  <tbody>\n",
       "    <tr>\n",
       "      <th>0</th>\n",
       "      <td>1.076315</td>\n",
       "      <td>1.077456</td>\n",
       "      <td>1.075820</td>\n",
       "      <td>1.078227</td>\n",
       "      <td>1.075017</td>\n",
       "      <td>1.076567</td>\n",
       "      <td>0.001146</td>\n",
       "      <td>9</td>\n",
       "      <td>181.933476</td>\n",
       "      <td>2.571445</td>\n",
       "      <td>257.689243</td>\n",
       "      <td>7.023292</td>\n",
       "      <td>{'bsl_options': {'method': 'als', 'reg_u': 20,...</td>\n",
       "      <td>{'method': 'als', 'reg_u': 20, 'reg_i': 20, 'n...</td>\n",
       "      <td>5</td>\n",
       "      <td>1</td>\n",
       "      <td>{'name': 'pearson_baseline', 'shrinkage': 80, ...</td>\n",
       "    </tr>\n",
       "    <tr>\n",
       "      <th>1</th>\n",
       "      <td>1.075578</td>\n",
       "      <td>1.076699</td>\n",
       "      <td>1.075145</td>\n",
       "      <td>1.077509</td>\n",
       "      <td>1.074931</td>\n",
       "      <td>1.075972</td>\n",
       "      <td>0.000981</td>\n",
       "      <td>5</td>\n",
       "      <td>181.265420</td>\n",
       "      <td>3.237676</td>\n",
       "      <td>258.423925</td>\n",
       "      <td>5.409394</td>\n",
       "      <td>{'bsl_options': {'method': 'als', 'reg_u': 1, ...</td>\n",
       "      <td>{'method': 'als', 'reg_u': 1, 'reg_i': 1, 'n_e...</td>\n",
       "      <td>5</td>\n",
       "      <td>5</td>\n",
       "      <td>{'name': 'pearson_baseline', 'shrinkage': 80, ...</td>\n",
       "    </tr>\n",
       "    <tr>\n",
       "      <th>2</th>\n",
       "      <td>1.076392</td>\n",
       "      <td>1.077459</td>\n",
       "      <td>1.075899</td>\n",
       "      <td>1.078259</td>\n",
       "      <td>1.075200</td>\n",
       "      <td>1.076642</td>\n",
       "      <td>0.001093</td>\n",
       "      <td>10</td>\n",
       "      <td>174.326847</td>\n",
       "      <td>2.507575</td>\n",
       "      <td>255.531353</td>\n",
       "      <td>3.458609</td>\n",
       "      <td>{'bsl_options': {'method': 'als', 'reg_u': 20,...</td>\n",
       "      <td>{'method': 'als', 'reg_u': 20, 'reg_i': 20, 'n...</td>\n",
       "      <td>5</td>\n",
       "      <td>1</td>\n",
       "      <td>{'name': 'pearson_baseline', 'shrinkage': 80, ...</td>\n",
       "    </tr>\n",
       "    <tr>\n",
       "      <th>3</th>\n",
       "      <td>1.076082</td>\n",
       "      <td>1.077004</td>\n",
       "      <td>1.075481</td>\n",
       "      <td>1.077625</td>\n",
       "      <td>1.074674</td>\n",
       "      <td>1.076173</td>\n",
       "      <td>0.001052</td>\n",
       "      <td>7</td>\n",
       "      <td>169.164291</td>\n",
       "      <td>5.439761</td>\n",
       "      <td>223.373435</td>\n",
       "      <td>16.143004</td>\n",
       "      <td>{'bsl_options': {'method': 'als', 'reg_u': 20,...</td>\n",
       "      <td>{'method': 'als', 'reg_u': 20, 'reg_i': 1, 'n_...</td>\n",
       "      <td>5</td>\n",
       "      <td>1</td>\n",
       "      <td>{'name': 'pearson_baseline', 'shrinkage': 80, ...</td>\n",
       "    </tr>\n",
       "    <tr>\n",
       "      <th>4</th>\n",
       "      <td>0.992814</td>\n",
       "      <td>0.994786</td>\n",
       "      <td>0.992928</td>\n",
       "      <td>0.995838</td>\n",
       "      <td>0.993000</td>\n",
       "      <td>0.993873</td>\n",
       "      <td>0.001223</td>\n",
       "      <td>1</td>\n",
       "      <td>157.371126</td>\n",
       "      <td>0.917960</td>\n",
       "      <td>293.827953</td>\n",
       "      <td>0.787045</td>\n",
       "      <td>{'bsl_options': {'method': 'als', 'reg_u': 20,...</td>\n",
       "      <td>{'method': 'als', 'reg_u': 20, 'reg_i': 1, 'n_...</td>\n",
       "      <td>100</td>\n",
       "      <td>1</td>\n",
       "      <td>{'name': 'pearson_baseline', 'shrinkage': 100,...</td>\n",
       "    </tr>\n",
       "    <tr>\n",
       "      <th>5</th>\n",
       "      <td>1.075578</td>\n",
       "      <td>1.076699</td>\n",
       "      <td>1.075145</td>\n",
       "      <td>1.077509</td>\n",
       "      <td>1.074926</td>\n",
       "      <td>1.075971</td>\n",
       "      <td>0.000982</td>\n",
       "      <td>4</td>\n",
       "      <td>162.603987</td>\n",
       "      <td>1.012474</td>\n",
       "      <td>212.245883</td>\n",
       "      <td>0.948023</td>\n",
       "      <td>{'bsl_options': {'method': 'als', 'reg_u': 1, ...</td>\n",
       "      <td>{'method': 'als', 'reg_u': 1, 'reg_i': 1, 'n_e...</td>\n",
       "      <td>5</td>\n",
       "      <td>1</td>\n",
       "      <td>{'name': 'pearson_baseline', 'shrinkage': 80, ...</td>\n",
       "    </tr>\n",
       "    <tr>\n",
       "      <th>6</th>\n",
       "      <td>0.993131</td>\n",
       "      <td>0.995336</td>\n",
       "      <td>0.993504</td>\n",
       "      <td>0.996405</td>\n",
       "      <td>0.993497</td>\n",
       "      <td>0.994375</td>\n",
       "      <td>0.001274</td>\n",
       "      <td>3</td>\n",
       "      <td>163.529002</td>\n",
       "      <td>1.808093</td>\n",
       "      <td>291.130994</td>\n",
       "      <td>1.291328</td>\n",
       "      <td>{'bsl_options': {'method': 'als', 'reg_u': 1, ...</td>\n",
       "      <td>{'method': 'als', 'reg_u': 1, 'reg_i': 20, 'n_...</td>\n",
       "      <td>100</td>\n",
       "      <td>1</td>\n",
       "      <td>{'name': 'pearson_baseline', 'shrinkage': 80, ...</td>\n",
       "    </tr>\n",
       "    <tr>\n",
       "      <th>7</th>\n",
       "      <td>1.076348</td>\n",
       "      <td>1.077164</td>\n",
       "      <td>1.076014</td>\n",
       "      <td>1.077974</td>\n",
       "      <td>1.074866</td>\n",
       "      <td>1.076473</td>\n",
       "      <td>0.001053</td>\n",
       "      <td>8</td>\n",
       "      <td>163.064079</td>\n",
       "      <td>0.935382</td>\n",
       "      <td>210.557306</td>\n",
       "      <td>0.682667</td>\n",
       "      <td>{'bsl_options': {'method': 'als', 'reg_u': 20,...</td>\n",
       "      <td>{'method': 'als', 'reg_u': 20, 'reg_i': 20, 'n...</td>\n",
       "      <td>5</td>\n",
       "      <td>5</td>\n",
       "      <td>{'name': 'pearson_baseline', 'shrinkage': 100,...</td>\n",
       "    </tr>\n",
       "    <tr>\n",
       "      <th>8</th>\n",
       "      <td>0.993085</td>\n",
       "      <td>0.995284</td>\n",
       "      <td>0.993507</td>\n",
       "      <td>0.996390</td>\n",
       "      <td>0.993476</td>\n",
       "      <td>0.994349</td>\n",
       "      <td>0.001274</td>\n",
       "      <td>2</td>\n",
       "      <td>163.243722</td>\n",
       "      <td>1.531819</td>\n",
       "      <td>292.609226</td>\n",
       "      <td>1.201365</td>\n",
       "      <td>{'bsl_options': {'method': 'als', 'reg_u': 1, ...</td>\n",
       "      <td>{'method': 'als', 'reg_u': 1, 'reg_i': 20, 'n_...</td>\n",
       "      <td>100</td>\n",
       "      <td>5</td>\n",
       "      <td>{'name': 'pearson_baseline', 'shrinkage': 100,...</td>\n",
       "    </tr>\n",
       "    <tr>\n",
       "      <th>9</th>\n",
       "      <td>1.075396</td>\n",
       "      <td>1.076650</td>\n",
       "      <td>1.075281</td>\n",
       "      <td>1.077622</td>\n",
       "      <td>1.075065</td>\n",
       "      <td>1.076003</td>\n",
       "      <td>0.000981</td>\n",
       "      <td>6</td>\n",
       "      <td>162.849260</td>\n",
       "      <td>1.573464</td>\n",
       "      <td>211.190590</td>\n",
       "      <td>1.038134</td>\n",
       "      <td>{'bsl_options': {'method': 'als', 'reg_u': 1, ...</td>\n",
       "      <td>{'method': 'als', 'reg_u': 1, 'reg_i': 20, 'n_...</td>\n",
       "      <td>5</td>\n",
       "      <td>1</td>\n",
       "      <td>{'name': 'pearson_baseline', 'shrinkage': 80, ...</td>\n",
       "    </tr>\n",
       "  </tbody>\n",
       "</table>\n",
       "</div>"
      ],
      "text/plain": [
       "   split0_test_rmse  split1_test_rmse  split2_test_rmse  split3_test_rmse  \\\n",
       "0          1.076315          1.077456          1.075820          1.078227   \n",
       "1          1.075578          1.076699          1.075145          1.077509   \n",
       "2          1.076392          1.077459          1.075899          1.078259   \n",
       "3          1.076082          1.077004          1.075481          1.077625   \n",
       "4          0.992814          0.994786          0.992928          0.995838   \n",
       "5          1.075578          1.076699          1.075145          1.077509   \n",
       "6          0.993131          0.995336          0.993504          0.996405   \n",
       "7          1.076348          1.077164          1.076014          1.077974   \n",
       "8          0.993085          0.995284          0.993507          0.996390   \n",
       "9          1.075396          1.076650          1.075281          1.077622   \n",
       "\n",
       "   split4_test_rmse  mean_test_rmse  std_test_rmse  rank_test_rmse  \\\n",
       "0          1.075017        1.076567       0.001146               9   \n",
       "1          1.074931        1.075972       0.000981               5   \n",
       "2          1.075200        1.076642       0.001093              10   \n",
       "3          1.074674        1.076173       0.001052               7   \n",
       "4          0.993000        0.993873       0.001223               1   \n",
       "5          1.074926        1.075971       0.000982               4   \n",
       "6          0.993497        0.994375       0.001274               3   \n",
       "7          1.074866        1.076473       0.001053               8   \n",
       "8          0.993476        0.994349       0.001274               2   \n",
       "9          1.075065        1.076003       0.000981               6   \n",
       "\n",
       "   mean_fit_time  std_fit_time  mean_test_time  std_test_time  \\\n",
       "0     181.933476      2.571445      257.689243       7.023292   \n",
       "1     181.265420      3.237676      258.423925       5.409394   \n",
       "2     174.326847      2.507575      255.531353       3.458609   \n",
       "3     169.164291      5.439761      223.373435      16.143004   \n",
       "4     157.371126      0.917960      293.827953       0.787045   \n",
       "5     162.603987      1.012474      212.245883       0.948023   \n",
       "6     163.529002      1.808093      291.130994       1.291328   \n",
       "7     163.064079      0.935382      210.557306       0.682667   \n",
       "8     163.243722      1.531819      292.609226       1.201365   \n",
       "9     162.849260      1.573464      211.190590       1.038134   \n",
       "\n",
       "                                              params  \\\n",
       "0  {'bsl_options': {'method': 'als', 'reg_u': 20,...   \n",
       "1  {'bsl_options': {'method': 'als', 'reg_u': 1, ...   \n",
       "2  {'bsl_options': {'method': 'als', 'reg_u': 20,...   \n",
       "3  {'bsl_options': {'method': 'als', 'reg_u': 20,...   \n",
       "4  {'bsl_options': {'method': 'als', 'reg_u': 20,...   \n",
       "5  {'bsl_options': {'method': 'als', 'reg_u': 1, ...   \n",
       "6  {'bsl_options': {'method': 'als', 'reg_u': 1, ...   \n",
       "7  {'bsl_options': {'method': 'als', 'reg_u': 20,...   \n",
       "8  {'bsl_options': {'method': 'als', 'reg_u': 1, ...   \n",
       "9  {'bsl_options': {'method': 'als', 'reg_u': 1, ...   \n",
       "\n",
       "                                   param_bsl_options  param_k  param_min_k  \\\n",
       "0  {'method': 'als', 'reg_u': 20, 'reg_i': 20, 'n...        5            1   \n",
       "1  {'method': 'als', 'reg_u': 1, 'reg_i': 1, 'n_e...        5            5   \n",
       "2  {'method': 'als', 'reg_u': 20, 'reg_i': 20, 'n...        5            1   \n",
       "3  {'method': 'als', 'reg_u': 20, 'reg_i': 1, 'n_...        5            1   \n",
       "4  {'method': 'als', 'reg_u': 20, 'reg_i': 1, 'n_...      100            1   \n",
       "5  {'method': 'als', 'reg_u': 1, 'reg_i': 1, 'n_e...        5            1   \n",
       "6  {'method': 'als', 'reg_u': 1, 'reg_i': 20, 'n_...      100            1   \n",
       "7  {'method': 'als', 'reg_u': 20, 'reg_i': 20, 'n...        5            5   \n",
       "8  {'method': 'als', 'reg_u': 1, 'reg_i': 20, 'n_...      100            5   \n",
       "9  {'method': 'als', 'reg_u': 1, 'reg_i': 20, 'n_...        5            1   \n",
       "\n",
       "                                   param_sim_options  \n",
       "0  {'name': 'pearson_baseline', 'shrinkage': 80, ...  \n",
       "1  {'name': 'pearson_baseline', 'shrinkage': 80, ...  \n",
       "2  {'name': 'pearson_baseline', 'shrinkage': 80, ...  \n",
       "3  {'name': 'pearson_baseline', 'shrinkage': 80, ...  \n",
       "4  {'name': 'pearson_baseline', 'shrinkage': 100,...  \n",
       "5  {'name': 'pearson_baseline', 'shrinkage': 80, ...  \n",
       "6  {'name': 'pearson_baseline', 'shrinkage': 80, ...  \n",
       "7  {'name': 'pearson_baseline', 'shrinkage': 100,...  \n",
       "8  {'name': 'pearson_baseline', 'shrinkage': 100,...  \n",
       "9  {'name': 'pearson_baseline', 'shrinkage': 80, ...  "
      ]
     },
     "execution_count": 11,
     "metadata": {},
     "output_type": "execute_result"
    }
   ],
   "source": [
    "results_df = pd.DataFrame.from_dict(gs.cv_results)\n",
    "results_df"
   ]
  },
  {
   "cell_type": "code",
   "execution_count": 12,
   "metadata": {},
   "outputs": [
    {
     "name": "stdout",
     "output_type": "stream",
     "text": [
      "0.9938728715522401\n",
      "{'bsl_options': {'method': 'als', 'reg_u': 20, 'reg_i': 1, 'n_epochs': 5}, 'k': 100, 'min_k': 1, 'sim_options': {'name': 'pearson_baseline', 'shrinkage': 100, 'user_based': True}}\n"
     ]
    }
   ],
   "source": [
    "print(gs.best_score['rmse'])\n",
    "print(gs.best_params['rmse'])"
   ]
  },
  {
   "cell_type": "code",
   "execution_count": 20,
   "metadata": {},
   "outputs": [],
   "source": [
    "param_grid = {'bsl_options': {'method': ['als'],\n",
    "                              'reg_u': [10,25],\n",
    "                              'reg_i':[10,25],\n",
    "                              'n_epochs' : [10]},\n",
    "              'sim_options': {'name': ['pearson_baseline'],\n",
    "                              'shrinkage': [80]}\n",
    "              }"
   ]
  },
  {
   "cell_type": "code",
   "execution_count": 21,
   "metadata": {},
   "outputs": [
    {
     "name": "stdout",
     "output_type": "stream",
     "text": [
      "Estimating biases using als...\n",
      "Computing the pearson_baseline similarity matrix...\n",
      "Done computing similarity matrix.\n",
      "Estimating biases using als...\n",
      "Computing the pearson_baseline similarity matrix...\n",
      "Done computing similarity matrix.\n",
      "Estimating biases using als...\n",
      "Computing the pearson_baseline similarity matrix...\n",
      "Done computing similarity matrix.\n",
      "Estimating biases using als...\n",
      "Computing the pearson_baseline similarity matrix...\n",
      "Done computing similarity matrix.\n",
      "Estimating biases using als...\n",
      "Computing the pearson_baseline similarity matrix...\n",
      "Done computing similarity matrix.\n",
      "Estimating biases using als...\n",
      "Computing the pearson_baseline similarity matrix...\n",
      "Done computing similarity matrix.\n",
      "Estimating biases using als...\n",
      "Computing the pearson_baseline similarity matrix...\n",
      "Done computing similarity matrix.\n",
      "Estimating biases using als...\n",
      "Computing the pearson_baseline similarity matrix...\n",
      "Done computing similarity matrix.\n",
      "Estimating biases using als...\n",
      "Computing the pearson_baseline similarity matrix...\n",
      "Done computing similarity matrix.\n",
      "Estimating biases using als...\n",
      "Computing the pearson_baseline similarity matrix...\n",
      "Done computing similarity matrix.\n",
      "Estimating biases using als...\n",
      "Computing the pearson_baseline similarity matrix...\n",
      "Done computing similarity matrix.\n",
      "Estimating biases using als...\n",
      "Computing the pearson_baseline similarity matrix...\n",
      "Done computing similarity matrix.\n",
      "Estimating biases using als...\n",
      "Computing the pearson_baseline similarity matrix...\n",
      "Done computing similarity matrix.\n",
      "Estimating biases using als...\n",
      "Computing the pearson_baseline similarity matrix...\n",
      "Done computing similarity matrix.\n",
      "Estimating biases using als...\n",
      "Computing the pearson_baseline similarity matrix...\n",
      "Done computing similarity matrix.\n",
      "Estimating biases using als...\n",
      "Computing the pearson_baseline similarity matrix...\n",
      "Done computing similarity matrix.\n"
     ]
    }
   ],
   "source": [
    "gs = GridSearchCV(KNNBaseline, param_grid, measures=['rmse'], cv=4)\n",
    "gs.fit(surp)"
   ]
  },
  {
   "cell_type": "code",
   "execution_count": 23,
   "metadata": {},
   "outputs": [
    {
     "data": {
      "text/html": [
       "<div>\n",
       "<style scoped>\n",
       "    .dataframe tbody tr th:only-of-type {\n",
       "        vertical-align: middle;\n",
       "    }\n",
       "\n",
       "    .dataframe tbody tr th {\n",
       "        vertical-align: top;\n",
       "    }\n",
       "\n",
       "    .dataframe thead th {\n",
       "        text-align: right;\n",
       "    }\n",
       "</style>\n",
       "<table border=\"1\" class=\"dataframe\">\n",
       "  <thead>\n",
       "    <tr style=\"text-align: right;\">\n",
       "      <th></th>\n",
       "      <th>split0_test_rmse</th>\n",
       "      <th>split1_test_rmse</th>\n",
       "      <th>split2_test_rmse</th>\n",
       "      <th>split3_test_rmse</th>\n",
       "      <th>mean_test_rmse</th>\n",
       "      <th>std_test_rmse</th>\n",
       "      <th>rank_test_rmse</th>\n",
       "      <th>mean_fit_time</th>\n",
       "      <th>std_fit_time</th>\n",
       "      <th>mean_test_time</th>\n",
       "      <th>std_test_time</th>\n",
       "      <th>params</th>\n",
       "      <th>param_bsl_options</th>\n",
       "      <th>param_sim_options</th>\n",
       "    </tr>\n",
       "  </thead>\n",
       "  <tbody>\n",
       "    <tr>\n",
       "      <th>0</th>\n",
       "      <td>1.001298</td>\n",
       "      <td>0.999728</td>\n",
       "      <td>0.999695</td>\n",
       "      <td>1.001361</td>\n",
       "      <td>1.000521</td>\n",
       "      <td>0.000810</td>\n",
       "      <td>1</td>\n",
       "      <td>159.968238</td>\n",
       "      <td>14.446889</td>\n",
       "      <td>328.357920</td>\n",
       "      <td>40.696700</td>\n",
       "      <td>{'bsl_options': {'method': 'als', 'reg_u': 10,...</td>\n",
       "      <td>{'method': 'als', 'reg_u': 10, 'reg_i': 10, 'n...</td>\n",
       "      <td>{'name': 'pearson_baseline', 'shrinkage': 80, ...</td>\n",
       "    </tr>\n",
       "    <tr>\n",
       "      <th>1</th>\n",
       "      <td>1.001417</td>\n",
       "      <td>0.999842</td>\n",
       "      <td>0.999848</td>\n",
       "      <td>1.001436</td>\n",
       "      <td>1.000636</td>\n",
       "      <td>0.000791</td>\n",
       "      <td>2</td>\n",
       "      <td>173.836230</td>\n",
       "      <td>3.328469</td>\n",
       "      <td>377.565501</td>\n",
       "      <td>9.378909</td>\n",
       "      <td>{'bsl_options': {'method': 'als', 'reg_u': 10,...</td>\n",
       "      <td>{'method': 'als', 'reg_u': 10, 'reg_i': 25, 'n...</td>\n",
       "      <td>{'name': 'pearson_baseline', 'shrinkage': 80, ...</td>\n",
       "    </tr>\n",
       "    <tr>\n",
       "      <th>2</th>\n",
       "      <td>1.001881</td>\n",
       "      <td>1.000070</td>\n",
       "      <td>1.000175</td>\n",
       "      <td>1.001747</td>\n",
       "      <td>1.000968</td>\n",
       "      <td>0.000848</td>\n",
       "      <td>3</td>\n",
       "      <td>178.083831</td>\n",
       "      <td>3.627669</td>\n",
       "      <td>394.460741</td>\n",
       "      <td>5.004151</td>\n",
       "      <td>{'bsl_options': {'method': 'als', 'reg_u': 25,...</td>\n",
       "      <td>{'method': 'als', 'reg_u': 25, 'reg_i': 10, 'n...</td>\n",
       "      <td>{'name': 'pearson_baseline', 'shrinkage': 80, ...</td>\n",
       "    </tr>\n",
       "    <tr>\n",
       "      <th>3</th>\n",
       "      <td>1.002061</td>\n",
       "      <td>1.000184</td>\n",
       "      <td>1.000343</td>\n",
       "      <td>1.001902</td>\n",
       "      <td>1.001122</td>\n",
       "      <td>0.000863</td>\n",
       "      <td>4</td>\n",
       "      <td>172.375572</td>\n",
       "      <td>4.492727</td>\n",
       "      <td>366.510864</td>\n",
       "      <td>26.583554</td>\n",
       "      <td>{'bsl_options': {'method': 'als', 'reg_u': 25,...</td>\n",
       "      <td>{'method': 'als', 'reg_u': 25, 'reg_i': 25, 'n...</td>\n",
       "      <td>{'name': 'pearson_baseline', 'shrinkage': 80, ...</td>\n",
       "    </tr>\n",
       "  </tbody>\n",
       "</table>\n",
       "</div>"
      ],
      "text/plain": [
       "   split0_test_rmse  split1_test_rmse  split2_test_rmse  split3_test_rmse  \\\n",
       "0          1.001298          0.999728          0.999695          1.001361   \n",
       "1          1.001417          0.999842          0.999848          1.001436   \n",
       "2          1.001881          1.000070          1.000175          1.001747   \n",
       "3          1.002061          1.000184          1.000343          1.001902   \n",
       "\n",
       "   mean_test_rmse  std_test_rmse  rank_test_rmse  mean_fit_time  std_fit_time  \\\n",
       "0        1.000521       0.000810               1     159.968238     14.446889   \n",
       "1        1.000636       0.000791               2     173.836230      3.328469   \n",
       "2        1.000968       0.000848               3     178.083831      3.627669   \n",
       "3        1.001122       0.000863               4     172.375572      4.492727   \n",
       "\n",
       "   mean_test_time  std_test_time  \\\n",
       "0      328.357920      40.696700   \n",
       "1      377.565501       9.378909   \n",
       "2      394.460741       5.004151   \n",
       "3      366.510864      26.583554   \n",
       "\n",
       "                                              params  \\\n",
       "0  {'bsl_options': {'method': 'als', 'reg_u': 10,...   \n",
       "1  {'bsl_options': {'method': 'als', 'reg_u': 10,...   \n",
       "2  {'bsl_options': {'method': 'als', 'reg_u': 25,...   \n",
       "3  {'bsl_options': {'method': 'als', 'reg_u': 25,...   \n",
       "\n",
       "                                   param_bsl_options  \\\n",
       "0  {'method': 'als', 'reg_u': 10, 'reg_i': 10, 'n...   \n",
       "1  {'method': 'als', 'reg_u': 10, 'reg_i': 25, 'n...   \n",
       "2  {'method': 'als', 'reg_u': 25, 'reg_i': 10, 'n...   \n",
       "3  {'method': 'als', 'reg_u': 25, 'reg_i': 25, 'n...   \n",
       "\n",
       "                                   param_sim_options  \n",
       "0  {'name': 'pearson_baseline', 'shrinkage': 80, ...  \n",
       "1  {'name': 'pearson_baseline', 'shrinkage': 80, ...  \n",
       "2  {'name': 'pearson_baseline', 'shrinkage': 80, ...  \n",
       "3  {'name': 'pearson_baseline', 'shrinkage': 80, ...  "
      ]
     },
     "execution_count": 23,
     "metadata": {},
     "output_type": "execute_result"
    }
   ],
   "source": [
    "results_df = pd.DataFrame.from_dict(gs.cv_results)\n",
    "results_df"
   ]
  },
  {
   "cell_type": "code",
   "execution_count": 24,
   "metadata": {},
   "outputs": [
    {
     "name": "stdout",
     "output_type": "stream",
     "text": [
      "1.0005205126351417\n",
      "{'bsl_options': {'method': 'als', 'reg_u': 10, 'reg_i': 10, 'n_epochs': 10}, 'sim_options': {'name': 'pearson_baseline', 'shrinkage': 80, 'user_based': True}}\n"
     ]
    }
   ],
   "source": [
    "print(gs.best_score['rmse'])\n",
    "print(gs.best_params['rmse'])"
   ]
  },
  {
   "cell_type": "code",
   "execution_count": null,
   "metadata": {},
   "outputs": [],
   "source": []
  },
  {
   "cell_type": "markdown",
   "metadata": {},
   "source": [
    "k-fold fits on dataset"
   ]
  },
  {
   "cell_type": "code",
   "execution_count": 24,
   "metadata": {},
   "outputs": [],
   "source": [
    "algo = KNNBasic()"
   ]
  },
  {
   "cell_type": "code",
   "execution_count": 25,
   "metadata": {},
   "outputs": [],
   "source": [
    "bsl_options = {'method': 'als',\n",
    "               'n_epochs': 20,\n",
    "               }\n",
    "sim_options = {'name': 'pearson_baseline'}\n",
    "algo = KNNBasic(bsl_options=bsl_options, sim_options=sim_options)"
   ]
  },
  {
   "cell_type": "code",
   "execution_count": 26,
   "metadata": {},
   "outputs": [],
   "source": [
    "def kfoldfitting(algo, trainset, testset):\n",
    "    # train and test algorithm.\n",
    "    algo.fit(trainset)\n",
    "    predictions = algo.test(testset)\n",
    "\n",
    "    # Compute and print Root Mean Squared Error\n",
    "    accuracy.rmse(predictions, verbose=True)\n",
    "    return 0"
   ]
  },
  {
   "cell_type": "code",
   "execution_count": 27,
   "metadata": {},
   "outputs": [],
   "source": [
    "kf = KFold(n_splits=3)\n",
    "processes = [multiprocessing.Process(target = kfoldfitting, args=(algo,trainset, testset)) for (trainset, testset) in kf.split(surp)]"
   ]
  },
  {
   "cell_type": "markdown",
   "metadata": {},
   "source": [
    "SVD"
   ]
  },
  {
   "cell_type": "code",
   "execution_count": 12,
   "metadata": {},
   "outputs": [
    {
     "name": "stdout",
     "output_type": "stream",
     "text": [
      "RMSE: 1.0323\n",
      "RMSE: 1.0338\n",
      "RMSE: 1.0320\n"
     ]
    }
   ],
   "source": [
    "for p in processes:\n",
    "    p.start()"
   ]
  },
  {
   "cell_type": "code",
   "execution_count": 15,
   "metadata": {},
   "outputs": [
    {
     "name": "stdout",
     "output_type": "stream",
     "text": [
      "Computing the msd similarity matrix...\n",
      "Computing the msd similarity matrix...\n",
      "Computing the msd similarity matrix...\n",
      "Done computing similarity matrix.\n",
      "Done computing similarity matrix.\n",
      "Done computing similarity matrix.\n",
      "RMSE: 1.0301\n",
      "RMSE: 1.0331\n",
      "RMSE: 1.0319\n"
     ]
    }
   ],
   "source": [
    "#KNNBasic\n",
    "for p in processes:\n",
    "    p.start()"
   ]
  },
  {
   "cell_type": "code",
   "execution_count": 28,
   "metadata": {},
   "outputs": [
    {
     "name": "stdout",
     "output_type": "stream",
     "text": [
      "Estimating biases using als...\n",
      "Estimating biases using als...\n",
      "Estimating biases using als...\n",
      "Computing the pearson_baseline similarity matrix...\n",
      "Computing the pearson_baseline similarity matrix...\n",
      "Computing the pearson_baseline similarity matrix...\n",
      "Done computing similarity matrix.\n",
      "Done computing similarity matrix.\n",
      "Done computing similarity matrix.\n",
      "RMSE: 1.0356\n",
      "RMSE: 1.0339\n",
      "RMSE: 1.0362\n"
     ]
    }
   ],
   "source": [
    "#KNNBasic\n",
    "for p in processes:\n",
    "    p.start()"
   ]
  },
  {
   "cell_type": "code",
   "execution_count": null,
   "metadata": {},
   "outputs": [],
   "source": []
  },
  {
   "cell_type": "code",
   "execution_count": null,
   "metadata": {},
   "outputs": [],
   "source": []
  },
  {
   "cell_type": "code",
   "execution_count": null,
   "metadata": {},
   "outputs": [],
   "source": []
  },
  {
   "cell_type": "code",
   "execution_count": null,
   "metadata": {},
   "outputs": [],
   "source": []
  },
  {
   "cell_type": "code",
   "execution_count": 25,
   "metadata": {},
   "outputs": [
    {
     "name": "stdout",
     "output_type": "stream",
     "text": [
      "RMSE: 1.0321\n",
      "RMSE: 1.0328\n",
      "RMSE: 1.0312\n"
     ]
    }
   ],
   "source": [
    "\n",
    "# define a cross-validation iterator\n",
    "kf = KFold(n_splits=3)\n",
    "\n",
    "algo = SVD()\n",
    "\n",
    "for trainset, testset in kf.split(surp):\n",
    "\n",
    "    # train and test algorithm.\n",
    "    algo.fit(trainset)\n",
    "    predictions = algo.test(testset)\n",
    "\n",
    "    # Compute and print Root Mean Squared Error\n",
    "    accuracy.rmse(predictions, verbose=True)"
   ]
  },
  {
   "cell_type": "code",
   "execution_count": 26,
   "metadata": {},
   "outputs": [
    {
     "name": "stdout",
     "output_type": "stream",
     "text": [
      "Estimating biases using sgd...\n",
      "RMSE: 1.0447\n",
      "Estimating biases using sgd...\n",
      "RMSE: 1.0437\n",
      "Estimating biases using sgd...\n",
      "RMSE: 1.0453\n"
     ]
    }
   ],
   "source": [
    "# define a cross-validation iterator\n",
    "kf = KFold(n_splits=3)\n",
    "\n",
    "bsl_options = {'method': 'sgd',\n",
    "               'learning_rate': .00005,\n",
    "               }\n",
    "algo = BaselineOnly(bsl_options=bsl_options)\n",
    "\n",
    "for trainset, testset in kf.split(surp):\n",
    "\n",
    "    # train and test algorithm.\n",
    "    algo.fit(trainset)\n",
    "    predictions = algo.test(testset)\n",
    "\n",
    "    # Compute and print Root Mean Squared Error\n",
    "    accuracy.rmse(predictions, verbose=True)"
   ]
  },
  {
   "cell_type": "code",
   "execution_count": null,
   "metadata": {},
   "outputs": [],
   "source": [
    "# define a cross-validation iterator\n",
    "kf = KFold(n_splits=3)\n",
    "\n",
    "algo = KNNBaseline()\n",
    "\n",
    "for trainset, testset in kf.split(surp):\n",
    "\n",
    "    # train and test algorithm.\n",
    "    algo.fit(trainset)\n",
    "    predictions = algo.test(testset)\n",
    "\n",
    "    # Compute and print Root Mean Squared Error\n",
    "    accuracy.rmse(predictions, verbose=True)"
   ]
  },
  {
   "cell_type": "code",
   "execution_count": 27,
   "metadata": {},
   "outputs": [
    {
     "name": "stdout",
     "output_type": "stream",
     "text": [
      "Estimating biases using als...\n",
      "Computing the msd similarity matrix...\n",
      "Done computing similarity matrix.\n",
      "RMSE: 1.0121\n",
      "Estimating biases using als...\n",
      "Computing the msd similarity matrix...\n",
      "Done computing similarity matrix.\n",
      "RMSE: 1.0128\n",
      "Estimating biases using als...\n",
      "Computing the msd similarity matrix...\n",
      "Done computing similarity matrix.\n",
      "RMSE: 1.0111\n"
     ]
    }
   ],
   "source": [
    "# define a cross-validation iterator\n",
    "kf = KFold(n_splits=3)\n",
    "\n",
    "algo = KNNBaseline()\n",
    "\n",
    "for trainset, testset in kf.split(surp):\n",
    "\n",
    "    # train and test algorithm.\n",
    "    algo.fit(trainset)\n",
    "    predictions = algo.test(testset)\n",
    "\n",
    "    # Compute and print Root Mean Squared Error\n",
    "    accuracy.rmse(predictions, verbose=True)"
   ]
  },
  {
   "cell_type": "code",
   "execution_count": null,
   "metadata": {},
   "outputs": [
    {
     "name": "stdout",
     "output_type": "stream",
     "text": [
      "Computing the msd similarity matrix...\n",
      "Done computing similarity matrix.\n",
      "RMSE: 1.0310\n",
      "Computing the msd similarity matrix...\n",
      "Done computing similarity matrix.\n",
      "RMSE: 1.0318\n"
     ]
    }
   ],
   "source": [
    "# define a cross-validation iterator\n",
    "kf = KFold(n_splits=3)\n",
    "\n",
    "algo = KNNBasicc()\n",
    "\n",
    "for trainset, testset in kf.split(surp):\n",
    "\n",
    "    # train and test algorithm.\n",
    "    algo.fit(trainset)\n",
    "    predictions = algo.test(testset)\n",
    "\n",
    "    # Compute and print Root Mean Squared Error\n",
    "    accuracy.rmse(predictions, verbose=True)"
   ]
  },
  {
   "cell_type": "code",
   "execution_count": 29,
   "metadata": {},
   "outputs": [
    {
     "name": "stdout",
     "output_type": "stream",
     "text": [
      "Computing the msd similarity matrix...\n",
      "Done computing similarity matrix.\n",
      "RMSE: 1.0250\n",
      "Computing the msd similarity matrix...\n",
      "Done computing similarity matrix.\n",
      "RMSE: 1.0249\n",
      "Computing the msd similarity matrix...\n",
      "Done computing similarity matrix.\n",
      "RMSE: 1.0265\n"
     ]
    }
   ],
   "source": [
    "# define a cross-validation iterator\n",
    "kf = KFold(n_splits=3)\n",
    "\n",
    "algo = KNNWithMeans()\n",
    "\n",
    "for trainset, testset in kf.split(surp):\n",
    "\n",
    "    # train and test algorithm.\n",
    "    algo.fit(trainset)\n",
    "    predictions = algo.test(testset)\n",
    "\n",
    "    # Compute and print Root Mean Squared Error\n",
    "    accuracy.rmse(predictions, verbose=True)"
   ]
  },
  {
   "cell_type": "code",
   "execution_count": 30,
   "metadata": {},
   "outputs": [
    {
     "name": "stdout",
     "output_type": "stream",
     "text": [
      "Computing the msd similarity matrix...\n",
      "Done computing similarity matrix.\n",
      "RMSE: 1.0263\n",
      "Computing the msd similarity matrix...\n",
      "Done computing similarity matrix.\n",
      "RMSE: 1.0254\n",
      "Computing the msd similarity matrix...\n",
      "Done computing similarity matrix.\n",
      "RMSE: 1.0271\n"
     ]
    }
   ],
   "source": [
    "# define a cross-validation iterator\n",
    "kf = KFold(n_splits=3)\n",
    "\n",
    "algo = KNNWithZScore()\n",
    "\n",
    "for trainset, testset in kf.split(surp):\n",
    "\n",
    "    # train and test algorithm.\n",
    "    algo.fit(trainset)\n",
    "    predictions = algo.test(testset)\n",
    "\n",
    "    # Compute and print Root Mean Squared Error\n",
    "    accuracy.rmse(predictions, verbose=True)"
   ]
  },
  {
   "cell_type": "code",
   "execution_count": 40,
   "metadata": {},
   "outputs": [
    {
     "name": "stdout",
     "output_type": "stream",
     "text": [
      "RMSE: 1.0013\n",
      "RMSE: 1.0017\n",
      "RMSE: 1.0014\n"
     ]
    }
   ],
   "source": [
    "# define a cross-validation iterator\n",
    "kf = KFold(n_splits=3)\n",
    "\n",
    "algo = SlopeOne()\n",
    "\n",
    "for trainset, testset in kf.split(surp):\n",
    "\n",
    "    # train and test algorithm.\n",
    "    algo.fit(trainset)\n",
    "    predictions = algo.test(testset)\n",
    "\n",
    "    # Compute and print Root Mean Squared Error\n",
    "    accuracy.rmse(predictions, verbose=True)"
   ]
  },
  {
   "cell_type": "code",
   "execution_count": 50,
   "metadata": {},
   "outputs": [
    {
     "name": "stdout",
     "output_type": "stream",
     "text": [
      "RMSE: 1.0141\n",
      "RMSE: 1.0135\n",
      "RMSE: 1.0134\n"
     ]
    }
   ],
   "source": [
    "# define a cross-validation iterator\n",
    "kf = KFold(n_splits=3)\n",
    "\n",
    "algo = CoClustering()\n",
    "\n",
    "for trainset, testset in kf.split(surp):\n",
    "\n",
    "    # train and test algorithm.\n",
    "    algo.fit(trainset)\n",
    "    predictions = algo.test(testset)\n",
    "\n",
    "    # Compute and print Root Mean Squared Error\n",
    "    accuracy.rmse(predictions, verbose=True)"
   ]
  },
  {
   "cell_type": "code",
   "execution_count": 51,
   "metadata": {},
   "outputs": [],
   "source": [
    "param_grid = {'n_cltr_u': [4, 5,6,10]}\n",
    "gs = GridSearchCV(CoClustering, param_grid, measures=['rmse', 'mae'], cv=3)\n",
    "gs.fit(surp)"
   ]
  },
  {
   "cell_type": "code",
   "execution_count": 52,
   "metadata": {},
   "outputs": [],
   "source": [
    "results_df = pd.DataFrame.from_dict(gs.cv_results)"
   ]
  },
  {
   "cell_type": "code",
   "execution_count": 53,
   "metadata": {},
   "outputs": [
    {
     "name": "stdout",
     "output_type": "stream",
     "text": [
      "1.014580842421983\n",
      "{'n_cltr_u': 4}\n"
     ]
    }
   ],
   "source": [
    "print(gs.best_score['rmse'])\n",
    "print(gs.best_params['rmse'])"
   ]
  },
  {
   "cell_type": "code",
   "execution_count": 56,
   "metadata": {},
   "outputs": [
    {
     "data": {
      "text/plain": [
       "{'split0_test_rmse': array([1.01561956, 1.01602756, 1.0169597 , 1.01816032]),\n",
       " 'split1_test_rmse': array([1.01346801, 1.01427019, 1.01477627, 1.01641257]),\n",
       " 'split2_test_rmse': array([1.01465496, 1.01506113, 1.01645298, 1.01728355]),\n",
       " 'mean_test_rmse': array([1.01458084, 1.01511963, 1.01606298, 1.01728548]),\n",
       " 'std_test_rmse': array([0.00087993, 0.00071864, 0.00093307, 0.00071352]),\n",
       " 'rank_test_rmse': array([1, 2, 3, 4]),\n",
       " 'split0_test_mae': array([0.81656638, 0.81712222, 0.81775682, 0.81859485]),\n",
       " 'split1_test_mae': array([0.81529681, 0.81574445, 0.81617181, 0.81719389]),\n",
       " 'split2_test_mae': array([0.81584451, 0.81611471, 0.81707586, 0.81778652]),\n",
       " 'mean_test_mae': array([0.81590256, 0.81632712, 0.8170015 , 0.81785842]),\n",
       " 'std_test_mae': array([0.00051992, 0.00058218, 0.00064921, 0.00057419]),\n",
       " 'rank_test_mae': array([1, 2, 3, 4]),\n",
       " 'mean_fit_time': array([18.34776433, 18.88828731, 18.93605463, 20.37665057]),\n",
       " 'std_fit_time': array([0.151754  , 0.5202598 , 0.06941659, 0.04220255]),\n",
       " 'mean_test_time': array([3.58280953, 3.39633592, 3.19709778, 2.98054878]),\n",
       " 'std_test_time': array([0.50611712, 0.48448094, 0.56524773, 0.34166264]),\n",
       " 'params': [{'n_cltr_u': 4},\n",
       "  {'n_cltr_u': 5},\n",
       "  {'n_cltr_u': 6},\n",
       "  {'n_cltr_u': 10}],\n",
       " 'param_n_cltr_u': [4, 5, 6, 10]}"
      ]
     },
     "execution_count": 56,
     "metadata": {},
     "output_type": "execute_result"
    }
   ],
   "source": [
    "gs.cv_results"
   ]
  },
  {
   "cell_type": "code",
   "execution_count": null,
   "metadata": {},
   "outputs": [],
   "source": []
  },
  {
   "cell_type": "code",
   "execution_count": null,
   "metadata": {},
   "outputs": [],
   "source": []
  },
  {
   "cell_type": "code",
   "execution_count": null,
   "metadata": {},
   "outputs": [],
   "source": []
  },
  {
   "cell_type": "code",
   "execution_count": 41,
   "metadata": {},
   "outputs": [],
   "source": [
    "trainset = surp.build_full_trainset()"
   ]
  },
  {
   "cell_type": "code",
   "execution_count": 42,
   "metadata": {},
   "outputs": [
    {
     "data": {
      "text/plain": [
       "<surprise.prediction_algorithms.slope_one.SlopeOne at 0x7f3f07bbbb70>"
      ]
     },
     "execution_count": 42,
     "metadata": {},
     "output_type": "execute_result"
    }
   ],
   "source": [
    "algo = SlopeOne()\n",
    "algo.fit(trainset)"
   ]
  },
  {
   "cell_type": "code",
   "execution_count": 13,
   "metadata": {},
   "outputs": [
    {
     "name": "stdout",
     "output_type": "stream",
     "text": [
      "Estimating biases using sgd...\n"
     ]
    },
    {
     "data": {
      "text/plain": [
       "<surprise.prediction_algorithms.baseline_only.BaselineOnly at 0x7f3b3c574400>"
      ]
     },
     "execution_count": 13,
     "metadata": {},
     "output_type": "execute_result"
    }
   ],
   "source": [
    "bsl_options = {'method': 'sgd',\n",
    "               'learning_rate': .00005,\n",
    "               }\n",
    "algo = BaselineOnly(bsl_options=bsl_options)\n",
    "algo.fit(trainset)"
   ]
  },
  {
   "cell_type": "markdown",
   "metadata": {},
   "source": [
    "Load test file and predict ratings"
   ]
  },
  {
   "cell_type": "code",
   "execution_count": 43,
   "metadata": {},
   "outputs": [],
   "source": [
    "test = pd.read_csv('examples_sample_submission.csv')"
   ]
  },
  {
   "cell_type": "code",
   "execution_count": 44,
   "metadata": {},
   "outputs": [],
   "source": [
    "test['userID'] = test['Id'].apply(get_users)\n",
    "test['itemID'] = test['Id'].apply(get_items)"
   ]
  },
  {
   "cell_type": "code",
   "execution_count": 45,
   "metadata": {},
   "outputs": [
    {
     "data": {
      "text/html": [
       "<div>\n",
       "<style scoped>\n",
       "    .dataframe tbody tr th:only-of-type {\n",
       "        vertical-align: middle;\n",
       "    }\n",
       "\n",
       "    .dataframe tbody tr th {\n",
       "        vertical-align: top;\n",
       "    }\n",
       "\n",
       "    .dataframe thead th {\n",
       "        text-align: right;\n",
       "    }\n",
       "</style>\n",
       "<table border=\"1\" class=\"dataframe\">\n",
       "  <thead>\n",
       "    <tr style=\"text-align: right;\">\n",
       "      <th></th>\n",
       "      <th>Id</th>\n",
       "      <th>Prediction</th>\n",
       "      <th>userID</th>\n",
       "      <th>itemID</th>\n",
       "    </tr>\n",
       "  </thead>\n",
       "  <tbody>\n",
       "    <tr>\n",
       "      <th>0</th>\n",
       "      <td>r37_c1</td>\n",
       "      <td>3</td>\n",
       "      <td>37</td>\n",
       "      <td>1</td>\n",
       "    </tr>\n",
       "    <tr>\n",
       "      <th>1</th>\n",
       "      <td>r73_c1</td>\n",
       "      <td>3</td>\n",
       "      <td>73</td>\n",
       "      <td>1</td>\n",
       "    </tr>\n",
       "    <tr>\n",
       "      <th>2</th>\n",
       "      <td>r156_c1</td>\n",
       "      <td>3</td>\n",
       "      <td>156</td>\n",
       "      <td>1</td>\n",
       "    </tr>\n",
       "    <tr>\n",
       "      <th>3</th>\n",
       "      <td>r160_c1</td>\n",
       "      <td>3</td>\n",
       "      <td>160</td>\n",
       "      <td>1</td>\n",
       "    </tr>\n",
       "    <tr>\n",
       "      <th>4</th>\n",
       "      <td>r248_c1</td>\n",
       "      <td>3</td>\n",
       "      <td>248</td>\n",
       "      <td>1</td>\n",
       "    </tr>\n",
       "  </tbody>\n",
       "</table>\n",
       "</div>"
      ],
      "text/plain": [
       "        Id  Prediction  userID  itemID\n",
       "0   r37_c1           3      37       1\n",
       "1   r73_c1           3      73       1\n",
       "2  r156_c1           3     156       1\n",
       "3  r160_c1           3     160       1\n",
       "4  r248_c1           3     248       1"
      ]
     },
     "execution_count": 45,
     "metadata": {},
     "output_type": "execute_result"
    }
   ],
   "source": [
    "test.head()"
   ]
  },
  {
   "cell_type": "code",
   "execution_count": 46,
   "metadata": {},
   "outputs": [],
   "source": [
    "preds = test.apply(lambda row: round(algo.predict(row.userID, row.itemID).est) , axis=1)\n",
    "test['Prediction'] = preds"
   ]
  },
  {
   "cell_type": "code",
   "execution_count": 47,
   "metadata": {},
   "outputs": [],
   "source": [
    "test = test.drop(['userID','itemID'], axis=1)"
   ]
  },
  {
   "cell_type": "code",
   "execution_count": null,
   "metadata": {},
   "outputs": [],
   "source": []
  },
  {
   "cell_type": "markdown",
   "metadata": {},
   "source": [
    "Create submission file"
   ]
  },
  {
   "cell_type": "code",
   "execution_count": 48,
   "metadata": {},
   "outputs": [],
   "source": [
    "test.to_csv('subSlopeOne.csv', index=False)"
   ]
  },
  {
   "cell_type": "code",
   "execution_count": null,
   "metadata": {},
   "outputs": [],
   "source": []
  }
 ],
 "metadata": {
  "kernelspec": {
   "display_name": "Python 3",
   "language": "python",
   "name": "python3"
  },
  "language_info": {
   "codemirror_mode": {
    "name": "ipython",
    "version": 3
   },
   "file_extension": ".py",
   "mimetype": "text/x-python",
   "name": "python",
   "nbconvert_exporter": "python",
   "pygments_lexer": "ipython3",
   "version": "3.6.5"
  }
 },
 "nbformat": 4,
 "nbformat_minor": 2
}
